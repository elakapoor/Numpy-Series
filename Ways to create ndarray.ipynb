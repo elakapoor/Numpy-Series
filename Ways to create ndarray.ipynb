{
 "cells": [
  {
   "cell_type": "code",
   "execution_count": 1,
   "metadata": {},
   "outputs": [],
   "source": [
    "import numpy as np"
   ]
  },
  {
   "cell_type": "code",
   "execution_count": 2,
   "metadata": {},
   "outputs": [
    {
     "data": {
      "text/plain": [
       "array([6. , 7.5, 8. , 0. , 1. ])"
      ]
     },
     "execution_count": 2,
     "metadata": {},
     "output_type": "execute_result"
    }
   ],
   "source": [
    "# list into array\n",
    "data = [6, 7.5, 8, 0, 1]\n",
    "arr = np.array(data)\n",
    "arr"
   ]
  },
  {
   "cell_type": "code",
   "execution_count": 3,
   "metadata": {},
   "outputs": [
    {
     "data": {
      "text/plain": [
       "array([[1, 2, 3, 4],\n",
       "       [5, 6, 7, 8]])"
      ]
     },
     "execution_count": 3,
     "metadata": {},
     "output_type": "execute_result"
    }
   ],
   "source": [
    "# equal length list into muti dimensional array\n",
    "data1 = [[1, 2, 3, 4], [5, 6, 7, 8]]\n",
    "arr1 = np.array(data1)\n",
    "arr1"
   ]
  },
  {
   "cell_type": "code",
   "execution_count": 4,
   "metadata": {},
   "outputs": [
    {
     "name": "stdout",
     "output_type": "stream",
     "text": [
      "The shape of array is (5,) and dimension is 1. The data type is float64. \n",
      "The shape of array is: (2, 4) and dimension is 2. The data type is int64.\n"
     ]
    }
   ],
   "source": [
    "# shape, dimension and data type of array\n",
    "print(f\"The shape of array is {arr.shape} and dimension is {arr.ndim}. The data type is {arr.dtype}. \")\n",
    "print(f\"The shape of array is: {arr1.shape} and dimension is {arr1.ndim}. The data type is {arr1.dtype}.\")"
   ]
  },
  {
   "cell_type": "code",
   "execution_count": 5,
   "metadata": {},
   "outputs": [
    {
     "name": "stdout",
     "output_type": "stream",
     "text": [
      "The shape of array is (10,) and dimension is 1. \n",
      "The data type is float64. The array is [0. 0. 0. 0. 0. 0. 0. 0. 0. 0.]\n",
      "\n",
      " The shape of array is (3, 6) and dimension is 2. \n",
      "The data type is float64. The array is \n",
      "[[0. 0. 0. 0. 0. 0.]\n",
      " [0. 0. 0. 0. 0. 0.]\n",
      " [0. 0. 0. 0. 0. 0.]]\n",
      "The shape of original array is (2, 4) same as that of new array (2, 4).\n"
     ]
    }
   ],
   "source": [
    "# zero array\n",
    "arr_zero = np.zeros(10)\n",
    "arr_zero_2d = np.zeros((3, 6))\n",
    "print(f\"\"\"The shape of array is {arr_zero.shape} and dimension is {arr_zero.ndim}. \n",
    "The data type is {arr_zero.dtype}. The array is {arr_zero}\"\"\")\n",
    "print(f\"\"\"\\n The shape of array is {arr_zero_2d.shape} and dimension is {arr_zero_2d.ndim}. \n",
    "The data type is {arr_zero_2d.dtype}. The array is \\n{arr_zero_2d}\"\"\")\n",
    "\n",
    "arr_zeros_like = np.zeros_like(arr1)\n",
    "print(f\"\"\"The shape of original array is {arr1.shape} same as that of new array {arr_zeros_like.shape}.\"\"\" )"
   ]
  },
  {
   "cell_type": "code",
   "execution_count": 6,
   "metadata": {},
   "outputs": [
    {
     "name": "stdout",
     "output_type": "stream",
     "text": [
      "[[[ 2.31584178e+077 -3.11107983e+231]\n",
      "  [ 3.45845952e-323  0.00000000e+000]\n",
      "  [ 0.00000000e+000  0.00000000e+000]]\n",
      "\n",
      " [[ 0.00000000e+000  0.00000000e+000]\n",
      "  [ 0.00000000e+000  0.00000000e+000]\n",
      "  [ 0.00000000e+000  0.00000000e+000]]]\n",
      "[[5764607523034234880 5764607523034234880 3420889007388491779]\n",
      " [3327992364838840684 3399705548884422446     853186666507822]]\n"
     ]
    }
   ],
   "source": [
    "# It’s not safe to assume that np.empty will return an array of all zeros. In many cases it will return \n",
    "#uninitialized garbage values.\n",
    "\n",
    "arr_empty = np.empty((2, 3, 2))\n",
    "arr_empty\n",
    "print(arr_empty)\n",
    "\n",
    "\n",
    "a = [[1,2,3], [4,5,6]]\n",
    "arr_empty_like = np.empty_like(a)\n",
    "print(arr_empty_like)"
   ]
  },
  {
   "cell_type": "code",
   "execution_count": 7,
   "metadata": {},
   "outputs": [
    {
     "data": {
      "text/plain": [
       "array([0, 1, 2, 3, 4, 5, 6, 7, 8, 9])"
      ]
     },
     "execution_count": 7,
     "metadata": {},
     "output_type": "execute_result"
    }
   ],
   "source": [
    "# arange is an array-valued version of the built-in Python range function\n",
    "arr_arange = np.arange(10)\n",
    "arr_arange"
   ]
  },
  {
   "cell_type": "code",
   "execution_count": 8,
   "metadata": {},
   "outputs": [
    {
     "data": {
      "text/plain": [
       "array([1, 2, 3])"
      ]
     },
     "execution_count": 8,
     "metadata": {},
     "output_type": "execute_result"
    }
   ],
   "source": [
    "arr_asarray = np.asarray([1, 2, 3])\n",
    "arr_asarray"
   ]
  },
  {
   "cell_type": "code",
   "execution_count": 9,
   "metadata": {},
   "outputs": [
    {
     "name": "stdout",
     "output_type": "stream",
     "text": [
      "1d array is:  [1. 1. 1. 1. 1.]\n",
      "2d array is: \n",
      " [[1. 1. 1.]\n",
      " [1. 1. 1.]\n",
      " [1. 1. 1.]\n",
      " [1. 1. 1.]\n",
      " [1. 1. 1.]]\n"
     ]
    }
   ],
   "source": [
    "# create ones array\n",
    "arr_ones = np.ones(5)\n",
    "arr_ones_2d = np.ones((5, 3))\n",
    "print(\"1d array is: \", arr_ones)\n",
    "print(\"2d array is: \\n\", arr_ones_2d)"
   ]
  },
  {
   "cell_type": "code",
   "execution_count": 10,
   "metadata": {},
   "outputs": [
    {
     "name": "stdout",
     "output_type": "stream",
     "text": [
      "The shape of original array \n",
      " [[ 1  2  3  4  5]\n",
      " [ 6  7  8  9 10]] is \n",
      " (2, 5) and that of new array \n",
      "[[1 1 1 1 1]\n",
      " [1 1 1 1 1]] is \n",
      "(2, 5)\n"
     ]
    }
   ],
   "source": [
    "a = np.asarray([[1, 2, 3, 4, 5],[6, 7, 8, 9, 10]])\n",
    "arr_ones_like = np.ones_like(a)\n",
    "print(f\"The shape of original array \\n {a} is \\n {a.shape} and that of new array \\n{arr_ones_like} is \\n{arr_ones_like.shape}\")"
   ]
  },
  {
   "cell_type": "code",
   "execution_count": 18,
   "metadata": {},
   "outputs": [
    {
     "name": "stdout",
     "output_type": "stream",
     "text": [
      "The matrix with zero and one is: \n",
      " [[0. 1. 0.]\n",
      " [0. 0. 1.]\n",
      " [0. 0. 0.]]\n",
      "\n",
      " The identity matrix is: \n",
      " [[1. 0. 0.]\n",
      " [0. 1. 0.]\n",
      " [0. 0. 1.]]\n"
     ]
    }
   ],
   "source": [
    "# return matrix with 0 and 1 values\n",
    "arr_eye = np.eye(3, 3, k = 1)\n",
    "print(\"The matrix with zero and one is: \\n\",arr_eye)\n",
    "arr_identity = np.identity(3)\n",
    "print(\"\\n The identity matrix is: \\n\", arr_identity)"
   ]
  }
 ],
 "metadata": {
  "kernelspec": {
   "display_name": "Python 3",
   "language": "python",
   "name": "python3"
  },
  "language_info": {
   "codemirror_mode": {
    "name": "ipython",
    "version": 3
   },
   "file_extension": ".py",
   "mimetype": "text/x-python",
   "name": "python",
   "nbconvert_exporter": "python",
   "pygments_lexer": "ipython3",
   "version": "3.8.5"
  },
  "toc": {
   "base_numbering": 1,
   "nav_menu": {},
   "number_sections": true,
   "sideBar": true,
   "skip_h1_title": false,
   "title_cell": "Table of Contents",
   "title_sidebar": "Contents",
   "toc_cell": false,
   "toc_position": {},
   "toc_section_display": true,
   "toc_window_display": false
  },
  "varInspector": {
   "cols": {
    "lenName": 16,
    "lenType": 16,
    "lenVar": 40
   },
   "kernels_config": {
    "python": {
     "delete_cmd_postfix": "",
     "delete_cmd_prefix": "del ",
     "library": "var_list.py",
     "varRefreshCmd": "print(var_dic_list())"
    },
    "r": {
     "delete_cmd_postfix": ") ",
     "delete_cmd_prefix": "rm(",
     "library": "var_list.r",
     "varRefreshCmd": "cat(var_dic_list()) "
    }
   },
   "types_to_exclude": [
    "module",
    "function",
    "builtin_function_or_method",
    "instance",
    "_Feature"
   ],
   "window_display": false
  }
 },
 "nbformat": 4,
 "nbformat_minor": 4
}
